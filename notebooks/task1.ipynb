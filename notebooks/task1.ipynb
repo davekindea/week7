{
 "cells": [
  {
   "cell_type": "code",
   "execution_count": 1,
   "metadata": {},
   "outputs": [],
   "source": [
    "import logging"
   ]
  },
  {
   "cell_type": "code",
   "execution_count": 2,
   "metadata": {},
   "outputs": [],
   "source": [
    "# Configure logging\n",
    "logging.basicConfig(\n",
    "    filename='scraping.log',       # Log file path\n",
    "    filemode='a',                  # Append to the file, 'w' to overwrite\n",
    "    format='%(asctime)s - %(levelname)s - %(message)s', # Log format\n",
    "    level=logging.INFO             # Log level (INFO and above will be logged)\n",
    ")\n"
   ]
  },
  {
   "cell_type": "code",
   "execution_count": 3,
   "metadata": {},
   "outputs": [],
   "source": [
    "import requests\n",
    "from bs4 import BeautifulSoup\n",
    "def scrape_website(url):\n",
    "    try:\n",
    "        logging.info(f'Starting scraping for URL: {url}')\n",
    "        \n",
    "        # Make a request to the website\n",
    "        response = requests.get(url)\n",
    "        response.raise_for_status()  # Raise HTTPError for bad responses (4xx, 5xx)\n",
    "        logging.info(f'Successfully fetched URL: {url}')\n",
    "        \n",
    "        # Parse the content with BeautifulSoup\n",
    "        soup = BeautifulSoup(response.content, 'html.parser')\n",
    "        \n",
    "        # Perform your scraping logic here\n",
    "        # For example, extracting titles of articles\n",
    "        titles = soup.find_all('h2')\n",
    "        logging.info(f'Found {len(titles)} titles on the page.')\n",
    "        \n",
    "        for title in titles:\n",
    "            logging.debug(f'Title: {title.get_text()}')\n",
    "\n",
    "    except requests.exceptions.HTTPError as e:\n",
    "        logging.error(f'HTTP Error: {e} - URL: {url}')\n",
    "    except Exception as e:\n",
    "        logging.error(f'Error occurred: {e} - URL: {url}')\n",
    "\n",
    "# Example usage\n",
    "scrape_website('https://t.me/CheMed123')"
   ]
  },
  {
   "cell_type": "code",
   "execution_count": null,
   "metadata": {},
   "outputs": [],
   "source": []
  }
 ],
 "metadata": {
  "kernelspec": {
   "display_name": "Python 3",
   "language": "python",
   "name": "python3"
  },
  "language_info": {
   "codemirror_mode": {
    "name": "ipython",
    "version": 3
   },
   "file_extension": ".py",
   "mimetype": "text/x-python",
   "name": "python",
   "nbconvert_exporter": "python",
   "pygments_lexer": "ipython3",
   "version": "3.12.5"
  }
 },
 "nbformat": 4,
 "nbformat_minor": 2
}
